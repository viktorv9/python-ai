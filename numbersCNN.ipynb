{
 "cells": [
  {
   "cell_type": "code",
   "execution_count": 5,
   "metadata": {},
   "outputs": [
    {
     "ename": "AttributeError",
     "evalue": "'numpy.ndarray' object has no attribute 'pop'",
     "output_type": "error",
     "traceback": [
      "\u001b[1;31m---------------------------------------------------------------------------\u001b[0m",
      "\u001b[1;31mAttributeError\u001b[0m                            Traceback (most recent call last)",
      "\u001b[1;32mc:\\Users\\vgver\\OneDrive\\projecten\\code\\python-ai\\numbersCNN.ipynb Cell 1'\u001b[0m in \u001b[0;36m<module>\u001b[1;34m\u001b[0m\n\u001b[0;32m     <a href='vscode-notebook-cell:/c%3A/Users/vgver/OneDrive/projecten/code/python-ai/numbersCNN.ipynb#ch0000000?line=9'>10</a>\u001b[0m test_image_index \u001b[39m=\u001b[39m random\u001b[39m.\u001b[39mrandrange(\u001b[39m0\u001b[39m, \u001b[39m1000\u001b[39m)\n\u001b[0;32m     <a href='vscode-notebook-cell:/c%3A/Users/vgver/OneDrive/projecten/code/python-ai/numbersCNN.ipynb#ch0000000?line=10'>11</a>\u001b[0m test_image \u001b[39m=\u001b[39m test_images[test_image_index]\n\u001b[1;32m---> <a href='vscode-notebook-cell:/c%3A/Users/vgver/OneDrive/projecten/code/python-ai/numbersCNN.ipynb#ch0000000?line=11'>12</a>\u001b[0m test_images\u001b[39m.\u001b[39;49mpop(test_image_index)\n\u001b[0;32m     <a href='vscode-notebook-cell:/c%3A/Users/vgver/OneDrive/projecten/code/python-ai/numbersCNN.ipynb#ch0000000?line=13'>14</a>\u001b[0m get_ipython()\u001b[39m.\u001b[39mrun_line_magic(\u001b[39m'\u001b[39m\u001b[39mmatplotlib\u001b[39m\u001b[39m'\u001b[39m, \u001b[39m'\u001b[39m\u001b[39minline\u001b[39m\u001b[39m'\u001b[39m)\n\u001b[0;32m     <a href='vscode-notebook-cell:/c%3A/Users/vgver/OneDrive/projecten/code/python-ai/numbersCNN.ipynb#ch0000000?line=14'>15</a>\u001b[0m \u001b[39mimport\u001b[39;00m \u001b[39mmatplotlib\u001b[39;00m\u001b[39m.\u001b[39;00m\u001b[39mpyplot\u001b[39;00m \u001b[39mas\u001b[39;00m \u001b[39mplt\u001b[39;00m\n",
      "\u001b[1;31mAttributeError\u001b[0m: 'numpy.ndarray' object has no attribute 'pop'"
     ]
    }
   ],
   "source": [
    "import numpy as np\n",
    "from keras.models import Sequential\n",
    "from keras.datasets import mnist\n",
    "from keras.models import Sequential\n",
    "from keras.layers import Conv2D, MaxPooling2D\n",
    "from keras.layers import Dense, Flatten\n",
    "\n",
    "(train_images, train_labels), (test_images, test_labels) = mnist.load_data()\n",
    "\n",
    "%matplotlib inline\n",
    "import matplotlib.pyplot as plt\n",
    "\n",
    "fig, axes = plt.subplots(1, 10, figsize=(12, 7), subplot_kw={'xticks': [], 'yticks': []})\n",
    "\n",
    "for i, ax in enumerate(axes.flat):\n",
    "    ax.imshow(train_images[i], cmap=plt.cm.gray_r)\n",
    "    ax.text(0.45, 1.05, str(train_labels[i]), transform=ax.transAxes)"
   ]
  },
  {
   "cell_type": "code",
   "execution_count": 3,
   "metadata": {},
   "outputs": [
    {
     "name": "stdout",
     "output_type": "stream",
     "text": [
      "Epoch 1/10\n",
      "1200/1200 [==============================] - 16s 13ms/step - loss: 0.1491 - accuracy: 0.9551 - val_loss: 0.0463 - val_accuracy: 0.9849\n",
      "Epoch 2/10\n",
      "1200/1200 [==============================] - 15s 13ms/step - loss: 0.0439 - accuracy: 0.9864 - val_loss: 0.0308 - val_accuracy: 0.9896\n",
      "Epoch 3/10\n",
      "1200/1200 [==============================] - 16s 13ms/step - loss: 0.0306 - accuracy: 0.9905 - val_loss: 0.0284 - val_accuracy: 0.9902\n",
      "Epoch 4/10\n",
      "1200/1200 [==============================] - 15s 13ms/step - loss: 0.0225 - accuracy: 0.9930 - val_loss: 0.0292 - val_accuracy: 0.9898\n",
      "Epoch 5/10\n",
      "1200/1200 [==============================] - 15s 13ms/step - loss: 0.0164 - accuracy: 0.9947 - val_loss: 0.0324 - val_accuracy: 0.9889\n",
      "Epoch 6/10\n",
      "1200/1200 [==============================] - 15s 13ms/step - loss: 0.0121 - accuracy: 0.9961 - val_loss: 0.0364 - val_accuracy: 0.9897\n",
      "Epoch 7/10\n",
      "1200/1200 [==============================] - 15s 13ms/step - loss: 0.0102 - accuracy: 0.9965 - val_loss: 0.0289 - val_accuracy: 0.9912\n",
      "Epoch 8/10\n",
      "1200/1200 [==============================] - 15s 13ms/step - loss: 0.0087 - accuracy: 0.9972 - val_loss: 0.0305 - val_accuracy: 0.9908\n",
      "Epoch 9/10\n",
      "1200/1200 [==============================] - 15s 13ms/step - loss: 0.0071 - accuracy: 0.9976 - val_loss: 0.0327 - val_accuracy: 0.9908\n",
      "Epoch 10/10\n",
      "1200/1200 [==============================] - 16s 13ms/step - loss: 0.0063 - accuracy: 0.9980 - val_loss: 0.0341 - val_accuracy: 0.9908\n"
     ]
    },
    {
     "data": {
      "text/plain": [
       "[]"
      ]
     },
     "execution_count": 3,
     "metadata": {},
     "output_type": "execute_result"
    },
    {
     "data": {
      "image/png": "[encoded data removed]",
      "text/plain": [
       "<Figure size 432x288 with 1 Axes>"
      ]
     },
     "metadata": {
      "needs_background": "light"
     },
     "output_type": "display_data"
    }
   ],
   "source": [
    "#### prep train and test data, then train ####\n",
    "\n",
    "from tensorflow.keras.utils import to_categorical\n",
    "\n",
    "x_train = train_images.reshape(60000, 28, 28) / 255 # hier op letten! bij CNN is dit 28, 28 en bij normaal 28 * 28\n",
    "x_test = test_images.reshape(10000, 28, 28) / 255\n",
    "\n",
    "y_train = to_categorical(train_labels)\n",
    "y_test = to_categorical(test_labels)\n",
    "\n",
    "from keras.models import Sequential\n",
    "from keras.layers import Dense\n",
    "\n",
    "model = Sequential()\n",
    "model.add(Conv2D(32, (3, 3), activation='relu', input_shape=(28, 28, 1))) # convulition is best used for edge detection\n",
    "model.add(MaxPooling2D(2, 2))\n",
    "model.add(Conv2D(64, (3, 3), activation='relu'))\n",
    "model.add(MaxPooling2D(2, 2))\n",
    "model.add(Flatten())\n",
    "model.add(Dense(128, activation='relu'))\n",
    "model.add(Dense(10, activation='softmax')) # 10 mogelijke uitkomsten, softmax geeft de probability van elke\n",
    "model.compile(optimizer='adam', loss='categorical_crossentropy', metrics=['accuracy']) # caterogical_crossentropy want we willen nu categories\n",
    "\n",
    "hist = model.fit(x_train, y_train, validation_data=(x_test, y_test), epochs=10, batch_size=50)\n",
    "\n",
    "acc = hist.history['accuracy']\n",
    "val_acc = hist.history['val_accuracy']\n",
    "epochs = range(1, len(acc) + 1)\n",
    "\n",
    "plt.plot(epochs, acc, '-', label='Training Accuracy')\n",
    "plt.plot(epochs, val_acc, ':', label='Validation Accuracy')\n",
    "plt.title('Training and Validation Accuracy')\n",
    "plt.xlabel('Epoch')\n",
    "plt.ylabel('Accuracy')\n",
    "plt.legend(loc='lower right')\n",
    "plt.plot()\n",
    "\n"
   ]
  },
  {
   "cell_type": "code",
   "execution_count": 4,
   "metadata": {},
   "outputs": [
    {
     "name": "stdout",
     "output_type": "stream",
     "text": [
      "Looks like a 9!\n"
     ]
    },
    {
     "data": {
      "image/png": "[encoded data removed]",
      "text/plain": [
       "<Figure size 432x288 with 1 Axes>"
      ]
     },
     "metadata": {},
     "output_type": "display_data"
    }
   ],
   "source": [
    "# pick a random test image and predict #\n",
    "\n",
    "import random\n",
    "\n",
    "test_image = test_images[random.randrange(0, 1000)]\n",
    "plt.tick_params(axis='both', which='both', bottom=False, top=False, left=False, right=False, labelbottom=False, labelleft=False)\n",
    "plt.imshow(test_image, cmap=plt.cm.gray_r)\n",
    "\n",
    "x = test_image.reshape(1, 28, 28) / 255\n",
    "predicted_class = np.argmax(model.predict(x), axis=-1)[0]\n",
    "print('Looks like a ' + str(predicted_class) + '!')"
   ]
  }
 ],
 "metadata": {
  "interpreter": {
   "hash": "4d04e34086118c6dc54107cb071493bddf86b7700e0866e4e48f307afaf7f57f"
  },
  "kernelspec": {
   "display_name": "Python 3.9.4 64-bit",
   "language": "python",
   "name": "python3"
  },
  "language_info": {
   "codemirror_mode": {
    "name": "ipython",
    "version": 3
   },
   "file_extension": ".py",
   "mimetype": "text/x-python",
   "name": "python",
   "nbconvert_exporter": "python",
   "pygments_lexer": "ipython3",
   "version": "3.9.4"
  },
  "orig_nbformat": 4
 },
 "nbformat": 4,
 "nbformat_minor": 2
}
